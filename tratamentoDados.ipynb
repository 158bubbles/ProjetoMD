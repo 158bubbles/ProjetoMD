{
  "cells": [
    {
      "attachments": {},
      "cell_type": "markdown",
      "metadata": {
        "id": "r0SWJn3jAWPD"
      },
      "source": [
        "# Libraries"
      ]
    },
    {
      "cell_type": "code",
      "execution_count": 1,
      "metadata": {
        "colab": {
          "base_uri": "https://localhost:8080/"
        },
        "id": "Vkz9zJjvNuRk",
        "outputId": "8bcb43a4-6022-4be0-ad2e-d0416310012e"
      },
      "outputs": [
        {
          "name": "stdout",
          "output_type": "stream",
          "text": [
            "Requirement already satisfied: requests in /home/pereira/anaconda3/envs/daa/lib/python3.9/site-packages (2.28.2)\n",
            "Requirement already satisfied: certifi>=2017.4.17 in /home/pereira/anaconda3/envs/daa/lib/python3.9/site-packages (from requests) (2023.5.7)\n",
            "Requirement already satisfied: urllib3<1.27,>=1.21.1 in /home/pereira/anaconda3/envs/daa/lib/python3.9/site-packages (from requests) (1.26.14)\n",
            "Requirement already satisfied: idna<4,>=2.5 in /home/pereira/anaconda3/envs/daa/lib/python3.9/site-packages (from requests) (3.4)\n",
            "Requirement already satisfied: charset-normalizer<4,>=2 in /home/pereira/anaconda3/envs/daa/lib/python3.9/site-packages (from requests) (2.1.1)\n",
            "Requirement already satisfied: kaggle in /home/pereira/anaconda3/envs/daa/lib/python3.9/site-packages (1.5.12)\n",
            "Requirement already satisfied: six>=1.10 in /home/pereira/anaconda3/envs/daa/lib/python3.9/site-packages (from kaggle) (1.16.0)\n",
            "Requirement already satisfied: python-slugify in /home/pereira/anaconda3/envs/daa/lib/python3.9/site-packages (from kaggle) (7.0.0)\n",
            "Requirement already satisfied: certifi in /home/pereira/anaconda3/envs/daa/lib/python3.9/site-packages (from kaggle) (2023.5.7)\n",
            "Requirement already satisfied: urllib3 in /home/pereira/anaconda3/envs/daa/lib/python3.9/site-packages (from kaggle) (1.26.14)\n",
            "Requirement already satisfied: tqdm in /home/pereira/anaconda3/envs/daa/lib/python3.9/site-packages (from kaggle) (4.64.1)\n",
            "Requirement already satisfied: python-dateutil in /home/pereira/anaconda3/envs/daa/lib/python3.9/site-packages (from kaggle) (2.8.2)\n",
            "Requirement already satisfied: requests in /home/pereira/anaconda3/envs/daa/lib/python3.9/site-packages (from kaggle) (2.28.2)\n",
            "Requirement already satisfied: text-unidecode>=1.3 in /home/pereira/anaconda3/envs/daa/lib/python3.9/site-packages (from python-slugify->kaggle) (1.3)\n",
            "Requirement already satisfied: idna<4,>=2.5 in /home/pereira/anaconda3/envs/daa/lib/python3.9/site-packages (from requests->kaggle) (3.4)\n",
            "Requirement already satisfied: charset-normalizer<4,>=2 in /home/pereira/anaconda3/envs/daa/lib/python3.9/site-packages (from requests->kaggle) (2.1.1)\n",
            "Requirement already satisfied: vaderSentiment in /home/pereira/anaconda3/envs/daa/lib/python3.9/site-packages (3.3.2)\n",
            "Requirement already satisfied: requests in /home/pereira/anaconda3/envs/daa/lib/python3.9/site-packages (from vaderSentiment) (2.28.2)\n",
            "Requirement already satisfied: charset-normalizer<4,>=2 in /home/pereira/anaconda3/envs/daa/lib/python3.9/site-packages (from requests->vaderSentiment) (2.1.1)\n",
            "Requirement already satisfied: certifi>=2017.4.17 in /home/pereira/anaconda3/envs/daa/lib/python3.9/site-packages (from requests->vaderSentiment) (2023.5.7)\n",
            "Requirement already satisfied: urllib3<1.27,>=1.21.1 in /home/pereira/anaconda3/envs/daa/lib/python3.9/site-packages (from requests->vaderSentiment) (1.26.14)\n",
            "Requirement already satisfied: idna<4,>=2.5 in /home/pereira/anaconda3/envs/daa/lib/python3.9/site-packages (from requests->vaderSentiment) (3.4)\n",
            "Requirement already satisfied: vaderSentiment in /home/pereira/anaconda3/envs/daa/lib/python3.9/site-packages (3.3.2)\n",
            "Requirement already satisfied: pandas_datareader in /home/pereira/anaconda3/envs/daa/lib/python3.9/site-packages (0.10.0)\n",
            "Requirement already satisfied: textblob in /home/pereira/anaconda3/envs/daa/lib/python3.9/site-packages (0.17.1)\n",
            "Requirement already satisfied: yfinance in /home/pereira/anaconda3/envs/daa/lib/python3.9/site-packages (0.2.18)\n",
            "Requirement already satisfied: requests in /home/pereira/anaconda3/envs/daa/lib/python3.9/site-packages (from vaderSentiment) (2.28.2)\n",
            "Requirement already satisfied: lxml in /home/pereira/anaconda3/envs/daa/lib/python3.9/site-packages (from pandas_datareader) (4.9.2)\n",
            "Requirement already satisfied: pandas>=0.23 in /home/pereira/anaconda3/envs/daa/lib/python3.9/site-packages (from pandas_datareader) (1.4.4)\n",
            "Requirement already satisfied: nltk>=3.1 in /home/pereira/anaconda3/envs/daa/lib/python3.9/site-packages (from textblob) (3.8.1)\n",
            "Requirement already satisfied: pytz>=2022.5 in /home/pereira/anaconda3/envs/daa/lib/python3.9/site-packages (from yfinance) (2023.3)\n",
            "Requirement already satisfied: frozendict>=2.3.4 in /home/pereira/anaconda3/envs/daa/lib/python3.9/site-packages (from yfinance) (2.3.8)\n",
            "Requirement already satisfied: cryptography>=3.3.2 in /home/pereira/anaconda3/envs/daa/lib/python3.9/site-packages (from yfinance) (3.4.8)\n",
            "Requirement already satisfied: appdirs>=1.4.4 in /home/pereira/anaconda3/envs/daa/lib/python3.9/site-packages (from yfinance) (1.4.4)\n",
            "Requirement already satisfied: numpy>=1.16.5 in /home/pereira/anaconda3/envs/daa/lib/python3.9/site-packages (from yfinance) (1.22.4)\n",
            "Requirement already satisfied: multitasking>=0.0.7 in /home/pereira/anaconda3/envs/daa/lib/python3.9/site-packages (from yfinance) (0.0.11)\n",
            "Requirement already satisfied: html5lib>=1.1 in /home/pereira/anaconda3/envs/daa/lib/python3.9/site-packages (from yfinance) (1.1)\n",
            "Requirement already satisfied: beautifulsoup4>=4.11.1 in /home/pereira/anaconda3/envs/daa/lib/python3.9/site-packages (from yfinance) (4.11.1)\n",
            "Requirement already satisfied: soupsieve>1.2 in /home/pereira/anaconda3/envs/daa/lib/python3.9/site-packages (from beautifulsoup4>=4.11.1->yfinance) (2.3.2.post1)\n",
            "Requirement already satisfied: cffi>=1.12 in /home/pereira/anaconda3/envs/daa/lib/python3.9/site-packages (from cryptography>=3.3.2->yfinance) (1.15.1)\n",
            "Requirement already satisfied: six>=1.9 in /home/pereira/anaconda3/envs/daa/lib/python3.9/site-packages (from html5lib>=1.1->yfinance) (1.16.0)\n",
            "Requirement already satisfied: webencodings in /home/pereira/anaconda3/envs/daa/lib/python3.9/site-packages (from html5lib>=1.1->yfinance) (0.5.1)\n",
            "Requirement already satisfied: joblib in /home/pereira/anaconda3/envs/daa/lib/python3.9/site-packages (from nltk>=3.1->textblob) (1.2.0)\n",
            "Requirement already satisfied: tqdm in /home/pereira/anaconda3/envs/daa/lib/python3.9/site-packages (from nltk>=3.1->textblob) (4.64.1)\n",
            "Requirement already satisfied: regex>=2021.8.3 in /home/pereira/anaconda3/envs/daa/lib/python3.9/site-packages (from nltk>=3.1->textblob) (2023.5.5)\n",
            "Requirement already satisfied: click in /home/pereira/anaconda3/envs/daa/lib/python3.9/site-packages (from nltk>=3.1->textblob) (8.1.3)\n",
            "Requirement already satisfied: python-dateutil>=2.8.1 in /home/pereira/anaconda3/envs/daa/lib/python3.9/site-packages (from pandas>=0.23->pandas_datareader) (2.8.2)\n",
            "Requirement already satisfied: certifi>=2017.4.17 in /home/pereira/anaconda3/envs/daa/lib/python3.9/site-packages (from requests->vaderSentiment) (2023.5.7)\n",
            "Requirement already satisfied: idna<4,>=2.5 in /home/pereira/anaconda3/envs/daa/lib/python3.9/site-packages (from requests->vaderSentiment) (3.4)\n",
            "Requirement already satisfied: urllib3<1.27,>=1.21.1 in /home/pereira/anaconda3/envs/daa/lib/python3.9/site-packages (from requests->vaderSentiment) (1.26.14)\n",
            "Requirement already satisfied: charset-normalizer<4,>=2 in /home/pereira/anaconda3/envs/daa/lib/python3.9/site-packages (from requests->vaderSentiment) (2.1.1)\n",
            "Requirement already satisfied: pycparser in /home/pereira/anaconda3/envs/daa/lib/python3.9/site-packages (from cffi>=1.12->cryptography>=3.3.2->yfinance) (2.21)\n"
          ]
        }
      ],
      "source": [
        "#Check if is installed\n",
        "!pip install requests\n",
        "!pip install kaggle\n",
        "!pip install vaderSentiment\n",
        "! pip install vaderSentiment pandas_datareader textblob yfinance"
      ]
    },
    {
      "cell_type": "code",
      "execution_count": 2,
      "metadata": {
        "colab": {
          "base_uri": "https://localhost:8080/"
        },
        "id": "qlQt1zTX_PdK",
        "outputId": "3855fb37-eb03-42cd-c89c-b7ee5d34b7b3"
      },
      "outputs": [
        {
          "name": "stderr",
          "output_type": "stream",
          "text": [
            "[nltk_data] Downloading package stopwords to\n",
            "[nltk_data]     /home/pereira/nltk_data...\n",
            "[nltk_data]   Package stopwords is already up-to-date!\n",
            "[nltk_data] Downloading package wordnet to /home/pereira/nltk_data...\n",
            "[nltk_data]   Package wordnet is already up-to-date!\n"
          ]
        },
        {
          "data": {
            "text/plain": [
              "True"
            ]
          },
          "execution_count": 2,
          "metadata": {},
          "output_type": "execute_result"
        }
      ],
      "source": [
        "import urllib.request\n",
        "import os\n",
        "import json\n",
        "import string\n",
        "import re\n",
        "import pandas as pd\n",
        "import numpy as np\n",
        "import nltk\n",
        "import requests\n",
        "import matplotlib.pyplot as plt\n",
        "from vaderSentiment.vaderSentiment import SentimentIntensityAnalyzer\n",
        "from tqdm import tnrange, tqdm_notebook, tqdm\n",
        "from sklearn import preprocessing\n",
        "from time import sleep\n",
        "from nltk.tokenize import TweetTokenizer\n",
        "from nltk.stem.wordnet import WordNetLemmatizer\n",
        "from textblob import TextBlob\n",
        "from nltk.tokenize import word_tokenize\n",
        "from nltk.corpus import stopwords\n",
        "from nltk.stem.snowball import SnowballStemmer\n",
        "from matplotlib import pyplot as plt\n",
        "from wordcloud import WordCloud\n",
        "\n",
        "#library used to count the frequency of words\n",
        "from sklearn.feature_extraction.text import CountVectorizer\n",
        "\n",
        "nltk.download('stopwords')\n",
        "nltk.download('wordnet')"
      ]
    },
    {
      "attachments": {},
      "cell_type": "markdown",
      "metadata": {
        "id": "6y0gr5uIN2t-"
      },
      "source": [
        "# Download of Bitcoin"
      ]
    },
    {
      "cell_type": "code",
      "execution_count": 3,
      "metadata": {
        "id": "Baoo86LKN7kn"
      },
      "outputs": [],
      "source": [
        "start_date = '2010-07-17'\n",
        "end_date = '2023-05-16'\n",
        "\n",
        "url = f'https://api.coindesk.com/v1/bpi/historical/close.json?start={start_date}&end={end_date}&index=USD'\n",
        "\n",
        "response = requests.get(url)\n",
        "data = response.json()['bpi']\n",
        "\n",
        "df = pd.DataFrame.from_dict(data, orient='index', columns=['bitcoin_price'])\n",
        "df.index = pd.to_datetime(df.index)\n",
        "df = df.reset_index()\n",
        "df = df.rename(columns={'index': 'date'})\n",
        "df['date'] = df['date'] + pd.DateOffset(days=1)\n",
        "df['date'] = pd.to_datetime(df['date']).dt.date\n",
        "df = df.sort_values('date')\n",
        "\n",
        "\n",
        "df['stonks'] = 0  # Initialize 'stonks' column with 0\n",
        "\n",
        "# Compare 'bitcoin_price' with the previous row and update 'stonks' accordingly\n",
        "# Determine a variantion wich doesnt affect our target ???dogecoin\n",
        "df.loc[df['bitcoin_price'] < df['bitcoin_price'].shift(), 'stonks'] = -1\n",
        "df.loc[df['bitcoin_price'] > df['bitcoin_price'].shift(), 'stonks'] = 1\n",
        "df.to_csv('./data/bitcoin.csv', index=False)\n",
        "df_bitcoin=df.copy()"
      ]
    },
    {
      "cell_type": "code",
      "execution_count": 4,
      "metadata": {
        "colab": {
          "base_uri": "https://localhost:8080/",
          "height": 135
        },
        "id": "iBkET1BwQLuf",
        "outputId": "f88a5d12-51ca-461c-d488-9ec72aeaced9"
      },
      "outputs": [
        {
          "name": "stderr",
          "output_type": "stream",
          "text": [
            "/home/pereira/anaconda3/envs/daa/lib/python3.9/site-packages/pandas/core/ops/array_ops.py:73: FutureWarning: Comparison of Timestamp with datetime.date is deprecated in order to match the standard library behavior. In a future version these will be considered non-comparable. Use 'ts == pd.Timestamp(date)' or 'ts.date() == date' instead.\n",
            "  result = libops.scalar_compare(x.ravel(), y, op)\n"
          ]
        },
        {
          "data": {
            "text/html": [
              "<div>\n",
              "<style scoped>\n",
              "    .dataframe tbody tr th:only-of-type {\n",
              "        vertical-align: middle;\n",
              "    }\n",
              "\n",
              "    .dataframe tbody tr th {\n",
              "        vertical-align: top;\n",
              "    }\n",
              "\n",
              "    .dataframe thead th {\n",
              "        text-align: right;\n",
              "    }\n",
              "</style>\n",
              "<table border=\"1\" class=\"dataframe\">\n",
              "  <thead>\n",
              "    <tr style=\"text-align: right;\">\n",
              "      <th></th>\n",
              "      <th>date</th>\n",
              "      <th>bitcoin_price</th>\n",
              "      <th>stonks</th>\n",
              "    </tr>\n",
              "  </thead>\n",
              "  <tbody>\n",
              "    <tr>\n",
              "      <th>4123</th>\n",
              "      <td>2021-11-01</td>\n",
              "      <td>61338.5317</td>\n",
              "      <td>-1</td>\n",
              "    </tr>\n",
              "  </tbody>\n",
              "</table>\n",
              "</div>"
            ],
            "text/plain": [
              "            date  bitcoin_price  stonks\n",
              "4123  2021-11-01     61338.5317      -1"
            ]
          },
          "execution_count": 4,
          "metadata": {},
          "output_type": "execute_result"
        }
      ],
      "source": [
        "#Check if is correct the data\n",
        "df[df['date'] == pd.to_datetime('2021-11-01')]"
      ]
    },
    {
      "cell_type": "code",
      "execution_count": 5,
      "metadata": {
        "colab": {
          "base_uri": "https://localhost:8080/",
          "height": 332
        },
        "id": "HLdSBox2ZYyR",
        "outputId": "95070adf-7306-4d6c-f157-bf2c828a87c6"
      },
      "outputs": [
        {
          "data": {
            "image/png": "[encoded data removed]",
            "text/plain": [
              "<Figure size 1440x432 with 1 Axes>"
            ]
          },
          "metadata": {
            "needs_background": "light"
          },
          "output_type": "display_data"
        }
      ],
      "source": [
        "#Historic Price of Bitcoin over the time\n",
        "# Create a line graph\n",
        "plt.figure(figsize=(20, 6))\n",
        "plt.plot(df['date'], df['bitcoin_price'])\n",
        "\n",
        "# Customize the plot\n",
        "plt.title('Bitcoin Price Over Time')\n",
        "plt.xlabel('date')\n",
        "plt.ylabel('Price')\n",
        "plt.xticks(rotation=45)\n",
        "\n",
        "# Display the graph\n",
        "plt.show()"
      ]
    },
    {
      "attachments": {},
      "cell_type": "markdown",
      "metadata": {
        "id": "-D7VPSqGyrc3"
      },
      "source": [
        "# Download of Dogecoin"
      ]
    },
    {
      "cell_type": "code",
      "execution_count": 6,
      "metadata": {
        "id": "UcBNNKI0y0-n"
      },
      "outputs": [],
      "source": [
        "url = f'https://api.coingecko.com/api/v3/coins/dogecoin/market_chart/range?vs_currency=eur&from=1279324800&to=1684195200'\n",
        "\n",
        "response = requests.get(url)\n",
        "data = response.json()['prices']\n",
        "\n",
        "df = pd.DataFrame(data, columns=['date', 'dogecoin_price'])\n",
        "df.date = pd.to_datetime(df.date/1000, unit='s')\n",
        "df['date'] = df['date'] + pd.DateOffset(days=1)\n",
        "df['date'] = pd.to_datetime(df['date']).dt.date\n",
        "df = df.sort_values('date')\n",
        "\n",
        "df['stonks'] = 0  # Initialize 'stonks' column with 0\n",
        "\n",
        "# Compare 'bitcoin_price' with the previous row and update 'stonks' accordingly\n",
        "# Determine a variantion wich doesnt affect our target ???dogecoin\n",
        "df.loc[df['dogecoin_price'] < df['dogecoin_price'].shift(), 'stonks'] = -1\n",
        "df.loc[df['dogecoin_price'] > df['dogecoin_price'].shift(), 'stonks'] = 1\n",
        "df.to_csv('./data/dogecoin.csv', index=False)"
      ]
    },
    {
      "cell_type": "code",
      "execution_count": 7,
      "metadata": {
        "colab": {
          "base_uri": "https://localhost:8080/",
          "height": 135
        },
        "id": "pVUSj8My0Ree",
        "outputId": "59891ca7-cc69-4660-c358-11e400994231"
      },
      "outputs": [
        {
          "name": "stderr",
          "output_type": "stream",
          "text": [
            "/home/pereira/anaconda3/envs/daa/lib/python3.9/site-packages/pandas/core/ops/array_ops.py:73: FutureWarning: Comparison of Timestamp with datetime.date is deprecated in order to match the standard library behavior. In a future version these will be considered non-comparable. Use 'ts == pd.Timestamp(date)' or 'ts.date() == date' instead.\n",
            "  result = libops.scalar_compare(x.ravel(), y, op)\n"
          ]
        },
        {
          "data": {
            "text/html": [
              "<div>\n",
              "<style scoped>\n",
              "    .dataframe tbody tr th:only-of-type {\n",
              "        vertical-align: middle;\n",
              "    }\n",
              "\n",
              "    .dataframe tbody tr th {\n",
              "        vertical-align: top;\n",
              "    }\n",
              "\n",
              "    .dataframe thead th {\n",
              "        text-align: right;\n",
              "    }\n",
              "</style>\n",
              "<table border=\"1\" class=\"dataframe\">\n",
              "  <thead>\n",
              "    <tr style=\"text-align: right;\">\n",
              "      <th></th>\n",
              "      <th>date</th>\n",
              "      <th>dogecoin_price</th>\n",
              "      <th>stonks</th>\n",
              "    </tr>\n",
              "  </thead>\n",
              "  <tbody>\n",
              "    <tr>\n",
              "      <th>2874</th>\n",
              "      <td>2021-11-01</td>\n",
              "      <td>0.23207</td>\n",
              "      <td>-1</td>\n",
              "    </tr>\n",
              "  </tbody>\n",
              "</table>\n",
              "</div>"
            ],
            "text/plain": [
              "            date  dogecoin_price  stonks\n",
              "2874  2021-11-01         0.23207      -1"
            ]
          },
          "execution_count": 7,
          "metadata": {},
          "output_type": "execute_result"
        }
      ],
      "source": [
        "#Check if is correct the data\n",
        "df[df['date'] == pd.to_datetime('2021-11-01')]"
      ]
    },
    {
      "cell_type": "code",
      "execution_count": 8,
      "metadata": {
        "colab": {
          "base_uri": "https://localhost:8080/",
          "height": 336
        },
        "id": "kEA731OK0raH",
        "outputId": "44c3d29c-42ce-4483-9506-1c3ce0c85b79"
      },
      "outputs": [
        {
          "data": {
            "image/png": "[encoded data removed]",
            "text/plain": [
              "<Figure size 1440x432 with 1 Axes>"
            ]
          },
          "metadata": {
            "needs_background": "light"
          },
          "output_type": "display_data"
        }
      ],
      "source": [
        "#Historic Price of Dogecoin over the time\n",
        "# Create a line graph\n",
        "plt.figure(figsize=(20, 6))\n",
        "plt.plot(df['date'], df['dogecoin_price'])\n",
        "\n",
        "# Customize the plot\n",
        "plt.title('Dogecoin Price Over Time')\n",
        "plt.xlabel('date')\n",
        "plt.ylabel('Price')\n",
        "plt.xticks(rotation=45)\n",
        "\n",
        "# Display the graph\n",
        "plt.show()"
      ]
    },
    {
      "attachments": {},
      "cell_type": "markdown",
      "metadata": {
        "id": "cQC6sx8o9Ij6"
      },
      "source": [
        "# Download of Tweets"
      ]
    },
    {
      "cell_type": "code",
      "execution_count": 19,
      "metadata": {
        "colab": {
          "base_uri": "https://localhost:8080/"
        },
        "id": "Ou5lslfP9Hr0",
        "outputId": "1f360fb8-cfb6-48e7-fcd6-789712fddfe6"
      },
      "outputs": [
        {
          "name": "stdout",
          "output_type": "stream",
          "text": [
            "Finished creating DataFrames\n"
          ]
        }
      ],
      "source": [
        "#Read the data from the csv file and store it in a dataframe\n",
        "datasets = []\n",
        "folder_path = \"data/original_tweets\"  # Update the folder path\n",
        "\n",
        "start_year = 2010\n",
        "end_year = 2022\n",
        "\n",
        "for year in range(start_year, end_year + 1):\n",
        "    file_name = str(year) + \".csv\"\n",
        "    file_path = os.path.join(folder_path, file_name)\n",
        "\n",
        "    if os.path.isfile(file_path):\n",
        "        df = pd.read_csv(file_path)\n",
        "        datasets.append(df)\n",
        "    else:\n",
        "        print(f\"File not found: {file_path}\")\n",
        "\n",
        "# Store the DataFrames in variables df_0 to df_12\n",
        "for i, df in enumerate(datasets):\n",
        "    globals()[f\"df_{i}\"] = df\n",
        "\n",
        "print(\"Finished creating DataFrames\")\n"
      ]
    },
    {
      "cell_type": "code",
      "execution_count": 21,
      "metadata": {},
      "outputs": [],
      "source": [
        "#Concatenate all the dataframes into a single dataframe\n",
        "dfs = [globals()[f\"df_{i}\"] for i in range(13)]\n",
        "df_elon = pd.concat(dfs, ignore_index=True)"
      ]
    },
    {
      "cell_type": "code",
      "execution_count": 22,
      "metadata": {},
      "outputs": [
        {
          "data": {
            "text/html": [
              "<div>\n",
              "<style scoped>\n",
              "    .dataframe tbody tr th:only-of-type {\n",
              "        vertical-align: middle;\n",
              "    }\n",
              "\n",
              "    .dataframe tbody tr th {\n",
              "        vertical-align: top;\n",
              "    }\n",
              "\n",
              "    .dataframe thead th {\n",
              "        text-align: right;\n",
              "    }\n",
              "</style>\n",
              "<table border=\"1\" class=\"dataframe\">\n",
              "  <thead>\n",
              "    <tr style=\"text-align: right;\">\n",
              "      <th></th>\n",
              "      <th>Unnamed: 0</th>\n",
              "      <th>id</th>\n",
              "      <th>conversation_id</th>\n",
              "      <th>created_at</th>\n",
              "      <th>date</th>\n",
              "      <th>timezone</th>\n",
              "      <th>place</th>\n",
              "      <th>tweet</th>\n",
              "      <th>language</th>\n",
              "      <th>hashtags</th>\n",
              "      <th>...</th>\n",
              "      <th>reply_to</th>\n",
              "      <th>retweet_date</th>\n",
              "      <th>translate</th>\n",
              "      <th>trans_src</th>\n",
              "      <th>trans_dest</th>\n",
              "      <th>time</th>\n",
              "      <th>mentions</th>\n",
              "      <th>replies_count</th>\n",
              "      <th>retweets_count</th>\n",
              "      <th>likes_count</th>\n",
              "    </tr>\n",
              "  </thead>\n",
              "  <tbody>\n",
              "    <tr>\n",
              "      <th>0</th>\n",
              "      <td>0.0</td>\n",
              "      <td>15434727182</td>\n",
              "      <td>15434727182</td>\n",
              "      <td>1275676317000.0</td>\n",
              "      <td>2010-06-04 18:31:57</td>\n",
              "      <td>0</td>\n",
              "      <td>NaN</td>\n",
              "      <td>Please ignore prior tweets, as that was someon...</td>\n",
              "      <td>en</td>\n",
              "      <td>[]</td>\n",
              "      <td>...</td>\n",
              "      <td>[]</td>\n",
              "      <td>NaN</td>\n",
              "      <td>NaN</td>\n",
              "      <td>NaN</td>\n",
              "      <td>NaN</td>\n",
              "      <td>NaN</td>\n",
              "      <td>NaN</td>\n",
              "      <td>NaN</td>\n",
              "      <td>NaN</td>\n",
              "      <td>NaN</td>\n",
              "    </tr>\n",
              "    <tr>\n",
              "      <th>1</th>\n",
              "      <td>0.0</td>\n",
              "      <td>152153637639028736</td>\n",
              "      <td>152151847614943233</td>\n",
              "      <td>1325111228000.0</td>\n",
              "      <td>2011-12-28 22:27:08</td>\n",
              "      <td>0</td>\n",
              "      <td>NaN</td>\n",
              "      <td>@TheOnion So true :)</td>\n",
              "      <td>en</td>\n",
              "      <td>[]</td>\n",
              "      <td>...</td>\n",
              "      <td>[]</td>\n",
              "      <td>NaN</td>\n",
              "      <td>NaN</td>\n",
              "      <td>NaN</td>\n",
              "      <td>NaN</td>\n",
              "      <td>NaN</td>\n",
              "      <td>NaN</td>\n",
              "      <td>NaN</td>\n",
              "      <td>NaN</td>\n",
              "      <td>NaN</td>\n",
              "    </tr>\n",
              "    <tr>\n",
              "      <th>2</th>\n",
              "      <td>1.0</td>\n",
              "      <td>151809315026636800</td>\n",
              "      <td>151809315026636800</td>\n",
              "      <td>1325029135000.0</td>\n",
              "      <td>2011-12-27 23:38:55</td>\n",
              "      <td>0</td>\n",
              "      <td>NaN</td>\n",
              "      <td>If you ever wanted to know the *real* truth ab...</td>\n",
              "      <td>en</td>\n",
              "      <td>[]</td>\n",
              "      <td>...</td>\n",
              "      <td>[]</td>\n",
              "      <td>NaN</td>\n",
              "      <td>NaN</td>\n",
              "      <td>NaN</td>\n",
              "      <td>NaN</td>\n",
              "      <td>NaN</td>\n",
              "      <td>NaN</td>\n",
              "      <td>NaN</td>\n",
              "      <td>NaN</td>\n",
              "      <td>NaN</td>\n",
              "    </tr>\n",
              "    <tr>\n",
              "      <th>3</th>\n",
              "      <td>2.0</td>\n",
              "      <td>151338939389706242</td>\n",
              "      <td>151338939389706242</td>\n",
              "      <td>1324916990000.0</td>\n",
              "      <td>2011-12-26 16:29:50</td>\n",
              "      <td>0</td>\n",
              "      <td>NaN</td>\n",
              "      <td>Walked around a neighborhood recently rebuilt ...</td>\n",
              "      <td>en</td>\n",
              "      <td>[]</td>\n",
              "      <td>...</td>\n",
              "      <td>[]</td>\n",
              "      <td>NaN</td>\n",
              "      <td>NaN</td>\n",
              "      <td>NaN</td>\n",
              "      <td>NaN</td>\n",
              "      <td>NaN</td>\n",
              "      <td>NaN</td>\n",
              "      <td>NaN</td>\n",
              "      <td>NaN</td>\n",
              "      <td>NaN</td>\n",
              "    </tr>\n",
              "    <tr>\n",
              "      <th>4</th>\n",
              "      <td>3.0</td>\n",
              "      <td>151337237429239808</td>\n",
              "      <td>151337237429239808</td>\n",
              "      <td>1324916584000.0</td>\n",
              "      <td>2011-12-26 16:23:04</td>\n",
              "      <td>0</td>\n",
              "      <td>NaN</td>\n",
              "      <td>It was Xmas, so we brought presents for the ki...</td>\n",
              "      <td>en</td>\n",
              "      <td>[]</td>\n",
              "      <td>...</td>\n",
              "      <td>[]</td>\n",
              "      <td>NaN</td>\n",
              "      <td>NaN</td>\n",
              "      <td>NaN</td>\n",
              "      <td>NaN</td>\n",
              "      <td>NaN</td>\n",
              "      <td>NaN</td>\n",
              "      <td>NaN</td>\n",
              "      <td>NaN</td>\n",
              "      <td>NaN</td>\n",
              "    </tr>\n",
              "  </tbody>\n",
              "</table>\n",
              "<p>5 rows × 44 columns</p>\n",
              "</div>"
            ],
            "text/plain": [
              "   Unnamed: 0                  id     conversation_id       created_at  \\\n",
              "0         0.0         15434727182         15434727182  1275676317000.0   \n",
              "1         0.0  152153637639028736  152151847614943233  1325111228000.0   \n",
              "2         1.0  151809315026636800  151809315026636800  1325029135000.0   \n",
              "3         2.0  151338939389706242  151338939389706242  1324916990000.0   \n",
              "4         3.0  151337237429239808  151337237429239808  1324916584000.0   \n",
              "\n",
              "                  date  timezone  place  \\\n",
              "0  2010-06-04 18:31:57         0    NaN   \n",
              "1  2011-12-28 22:27:08         0    NaN   \n",
              "2  2011-12-27 23:38:55         0    NaN   \n",
              "3  2011-12-26 16:29:50         0    NaN   \n",
              "4  2011-12-26 16:23:04         0    NaN   \n",
              "\n",
              "                                               tweet language hashtags  ...  \\\n",
              "0  Please ignore prior tweets, as that was someon...       en       []  ...   \n",
              "1                               @TheOnion So true :)       en       []  ...   \n",
              "2  If you ever wanted to know the *real* truth ab...       en       []  ...   \n",
              "3  Walked around a neighborhood recently rebuilt ...       en       []  ...   \n",
              "4  It was Xmas, so we brought presents for the ki...       en       []  ...   \n",
              "\n",
              "  reply_to  retweet_date  translate trans_src trans_dest  time  mentions  \\\n",
              "0       []           NaN        NaN       NaN        NaN   NaN       NaN   \n",
              "1       []           NaN        NaN       NaN        NaN   NaN       NaN   \n",
              "2       []           NaN        NaN       NaN        NaN   NaN       NaN   \n",
              "3       []           NaN        NaN       NaN        NaN   NaN       NaN   \n",
              "4       []           NaN        NaN       NaN        NaN   NaN       NaN   \n",
              "\n",
              "  replies_count retweets_count likes_count  \n",
              "0           NaN            NaN         NaN  \n",
              "1           NaN            NaN         NaN  \n",
              "2           NaN            NaN         NaN  \n",
              "3           NaN            NaN         NaN  \n",
              "4           NaN            NaN         NaN  \n",
              "\n",
              "[5 rows x 44 columns]"
            ]
          },
          "execution_count": 22,
          "metadata": {},
          "output_type": "execute_result"
        }
      ],
      "source": [
        "#Check if is correct the data\n",
        "df_elon.head()"
      ]
    },
    {
      "attachments": {},
      "cell_type": "markdown",
      "metadata": {
        "id": "fjpjR8MNZQzr"
      },
      "source": [
        "# Text Mining"
      ]
    },
    {
      "cell_type": "code",
      "execution_count": 23,
      "metadata": {
        "colab": {
          "base_uri": "https://localhost:8080/",
          "height": 424
        },
        "id": "TClkj17fEj5m",
        "outputId": "758b1d6a-6e61-4b3f-96fb-5561676239ed"
      },
      "outputs": [
        {
          "data": {
            "text/html": [
              "<div>\n",
              "<style scoped>\n",
              "    .dataframe tbody tr th:only-of-type {\n",
              "        vertical-align: middle;\n",
              "    }\n",
              "\n",
              "    .dataframe tbody tr th {\n",
              "        vertical-align: top;\n",
              "    }\n",
              "\n",
              "    .dataframe thead th {\n",
              "        text-align: right;\n",
              "    }\n",
              "</style>\n",
              "<table border=\"1\" class=\"dataframe\">\n",
              "  <thead>\n",
              "    <tr style=\"text-align: right;\">\n",
              "      <th></th>\n",
              "      <th>date</th>\n",
              "      <th>tweet</th>\n",
              "    </tr>\n",
              "  </thead>\n",
              "  <tbody>\n",
              "    <tr>\n",
              "      <th>0</th>\n",
              "      <td>2010-06-04</td>\n",
              "      <td>Please ignore prior tweets, as that was someon...</td>\n",
              "    </tr>\n",
              "    <tr>\n",
              "      <th>1</th>\n",
              "      <td>2011-12-28</td>\n",
              "      <td>@TheOnion So true :)</td>\n",
              "    </tr>\n",
              "    <tr>\n",
              "      <th>2</th>\n",
              "      <td>2011-12-27</td>\n",
              "      <td>If you ever wanted to know the *real* truth ab...</td>\n",
              "    </tr>\n",
              "    <tr>\n",
              "      <th>3</th>\n",
              "      <td>2011-12-26</td>\n",
              "      <td>Walked around a neighborhood recently rebuilt ...</td>\n",
              "    </tr>\n",
              "    <tr>\n",
              "      <th>4</th>\n",
              "      <td>2011-12-26</td>\n",
              "      <td>It was Xmas, so we brought presents for the ki...</td>\n",
              "    </tr>\n",
              "    <tr>\n",
              "      <th>...</th>\n",
              "      <td>...</td>\n",
              "      <td>...</td>\n",
              "    </tr>\n",
              "    <tr>\n",
              "      <th>34356</th>\n",
              "      <td>2022-01-03</td>\n",
              "      <td>@jack Reminds me of when I hex edited Ultima V...</td>\n",
              "    </tr>\n",
              "    <tr>\n",
              "      <th>34357</th>\n",
              "      <td>2022-01-03</td>\n",
              "      <td>@ClaudioOmbrella @Tesla @slcuervo @alex_avoigt...</td>\n",
              "    </tr>\n",
              "    <tr>\n",
              "      <th>34358</th>\n",
              "      <td>2022-01-03</td>\n",
              "      <td>@auren There is no way to be in touch with vot...</td>\n",
              "    </tr>\n",
              "    <tr>\n",
              "      <th>34360</th>\n",
              "      <td>2022-01-02</td>\n",
              "      <td>Let’s make the roaring 20’s happen!</td>\n",
              "    </tr>\n",
              "    <tr>\n",
              "      <th>34361</th>\n",
              "      <td>2022-01-02</td>\n",
              "      <td>Great work by Tesla team worldwide!</td>\n",
              "    </tr>\n",
              "  </tbody>\n",
              "</table>\n",
              "<p>13834 rows × 2 columns</p>\n",
              "</div>"
            ],
            "text/plain": [
              "             date                                              tweet\n",
              "0      2010-06-04  Please ignore prior tweets, as that was someon...\n",
              "1      2011-12-28                               @TheOnion So true :)\n",
              "2      2011-12-27  If you ever wanted to know the *real* truth ab...\n",
              "3      2011-12-26  Walked around a neighborhood recently rebuilt ...\n",
              "4      2011-12-26  It was Xmas, so we brought presents for the ki...\n",
              "...           ...                                                ...\n",
              "34356  2022-01-03  @jack Reminds me of when I hex edited Ultima V...\n",
              "34357  2022-01-03  @ClaudioOmbrella @Tesla @slcuervo @alex_avoigt...\n",
              "34358  2022-01-03  @auren There is no way to be in touch with vot...\n",
              "34360  2022-01-02                Let’s make the roaring 20’s happen!\n",
              "34361  2022-01-02                Great work by Tesla team worldwide!\n",
              "\n",
              "[13834 rows x 2 columns]"
            ]
          },
          "execution_count": 23,
          "metadata": {},
          "output_type": "execute_result"
        }
      ],
      "source": [
        "#Drop duplicated rows, reset index and drop columns.\n",
        "\n",
        "df_elon.reset_index(inplace=True)\n",
        "\n",
        "df_elon = df_elon[df_elon['language'] != 'und']\n",
        "\n",
        "df_elon.drop(columns=['index', 'Unnamed: 0', 'id', 'conversation_id', 'created_at', 'timezone', 'place', 'hour', 'link', 'urls', 'photos', 'video', 'thumbnail', 'retweet', 'nlikes', 'nreplies', 'nretweets', 'quote_url', 'search', 'near', 'geo', 'source', 'user_rt_id', 'user_rt', 'retweet_id', 'reply_to', 'retweet_date', 'translate', 'trans_src', 'trans_dest', 'time', 'mentions', 'replies_count', 'retweets_count', 'likes_count', 'cashtags', 'user_id' , 'user_id_str', 'name', 'day', 'hashtags', 'username', 'language'], inplace=True)\n",
        "\n",
        "df_elon.drop_duplicates(inplace=True)\n",
        "\n",
        "#Convert all dates for year-month-day\n",
        "df_elon['date'] = df_elon['date'].str.split(' ').str[0]\n",
        "df_elon['date'] = pd.to_datetime(df_elon['date']).dt.date\n",
        "\n",
        "df_elon"
      ]
    },
    {
      "cell_type": "code",
      "execution_count": 24,
      "metadata": {
        "colab": {
          "base_uri": "https://localhost:8080/",
          "height": 424
        },
        "id": "sAqYEvrZSen3",
        "outputId": "0786ece4-73b5-4786-d5f6-723e9484fe03"
      },
      "outputs": [
        {
          "data": {
            "text/html": [
              "<div>\n",
              "<style scoped>\n",
              "    .dataframe tbody tr th:only-of-type {\n",
              "        vertical-align: middle;\n",
              "    }\n",
              "\n",
              "    .dataframe tbody tr th {\n",
              "        vertical-align: top;\n",
              "    }\n",
              "\n",
              "    .dataframe thead th {\n",
              "        text-align: right;\n",
              "    }\n",
              "</style>\n",
              "<table border=\"1\" class=\"dataframe\">\n",
              "  <thead>\n",
              "    <tr style=\"text-align: right;\">\n",
              "      <th></th>\n",
              "      <th>date</th>\n",
              "      <th>tweet</th>\n",
              "    </tr>\n",
              "  </thead>\n",
              "  <tbody>\n",
              "    <tr>\n",
              "      <th>0</th>\n",
              "      <td>2010-06-04</td>\n",
              "      <td>Please ignore prior tweets, as that was someon...</td>\n",
              "    </tr>\n",
              "    <tr>\n",
              "      <th>1</th>\n",
              "      <td>2011-12-28</td>\n",
              "      <td>So true :)</td>\n",
              "    </tr>\n",
              "    <tr>\n",
              "      <th>2</th>\n",
              "      <td>2011-12-27</td>\n",
              "      <td>If you ever wanted to know the *real* truth ab...</td>\n",
              "    </tr>\n",
              "    <tr>\n",
              "      <th>3</th>\n",
              "      <td>2011-12-26</td>\n",
              "      <td>Walked around a neighborhood recently rebuilt ...</td>\n",
              "    </tr>\n",
              "    <tr>\n",
              "      <th>4</th>\n",
              "      <td>2011-12-26</td>\n",
              "      <td>It was Xmas, so we brought presents for the ki...</td>\n",
              "    </tr>\n",
              "    <tr>\n",
              "      <th>...</th>\n",
              "      <td>...</td>\n",
              "      <td>...</td>\n",
              "    </tr>\n",
              "    <tr>\n",
              "      <th>13829</th>\n",
              "      <td>2022-01-03</td>\n",
              "      <td>Reminds me of when I hex edited Ultima V to g...</td>\n",
              "    </tr>\n",
              "    <tr>\n",
              "      <th>13830</th>\n",
              "      <td>2022-01-03</td>\n",
              "      <td>🇨🇭Yay Switzerland!! 🇨🇭</td>\n",
              "    </tr>\n",
              "    <tr>\n",
              "      <th>13831</th>\n",
              "      <td>2022-01-03</td>\n",
              "      <td>There is no way to be in touch with voters wh...</td>\n",
              "    </tr>\n",
              "    <tr>\n",
              "      <th>13832</th>\n",
              "      <td>2022-01-02</td>\n",
              "      <td>Let’s make the roaring 20’s happen!</td>\n",
              "    </tr>\n",
              "    <tr>\n",
              "      <th>13833</th>\n",
              "      <td>2022-01-02</td>\n",
              "      <td>Great work by Tesla team worldwide!</td>\n",
              "    </tr>\n",
              "  </tbody>\n",
              "</table>\n",
              "<p>13834 rows × 2 columns</p>\n",
              "</div>"
            ],
            "text/plain": [
              "             date                                              tweet\n",
              "0      2010-06-04  Please ignore prior tweets, as that was someon...\n",
              "1      2011-12-28                                         So true :)\n",
              "2      2011-12-27  If you ever wanted to know the *real* truth ab...\n",
              "3      2011-12-26  Walked around a neighborhood recently rebuilt ...\n",
              "4      2011-12-26  It was Xmas, so we brought presents for the ki...\n",
              "...           ...                                                ...\n",
              "13829  2022-01-03   Reminds me of when I hex edited Ultima V to g...\n",
              "13830  2022-01-03                             🇨🇭Yay Switzerland!! 🇨🇭\n",
              "13831  2022-01-03   There is no way to be in touch with voters wh...\n",
              "13832  2022-01-02                Let’s make the roaring 20’s happen!\n",
              "13833  2022-01-02                Great work by Tesla team worldwide!\n",
              "\n",
              "[13834 rows x 2 columns]"
            ]
          },
          "execution_count": 24,
          "metadata": {},
          "output_type": "execute_result"
        }
      ],
      "source": [
        "pattern_mention = r'@\\w+'  # Matches \"@\" followed by word characters\n",
        "pattern_url = r'http[s]?://\\S+'  # Matches URLs starting with \"http://\" or \"https://\"\n",
        "\n",
        "# Function to clean mentions and URLs\n",
        "def clean_tweet(tweet):\n",
        "    tweet = re.sub(pattern_mention, '', tweet)\n",
        "    tweet = re.sub(pattern_url, '', tweet)\n",
        "    return tweet\n",
        "\n",
        "# Apply cleaning function to 'Tweets' column\n",
        "df_elon['tweet'] = df_elon['tweet'].apply(clean_tweet)\n",
        "df_elon.reset_index(inplace=True)\n",
        "df_elon.drop(['index'], inplace=True, axis=1)\n",
        "df_elon"
      ]
    },
    {
      "cell_type": "code",
      "execution_count": 25,
      "metadata": {
        "colab": {
          "base_uri": "https://localhost:8080/",
          "height": 424
        },
        "id": "MNue_PlQTotH",
        "outputId": "6685dab4-76b5-4612-a9e7-6f29aa48fc68"
      },
      "outputs": [
        {
          "data": {
            "text/html": [
              "<div>\n",
              "<style scoped>\n",
              "    .dataframe tbody tr th:only-of-type {\n",
              "        vertical-align: middle;\n",
              "    }\n",
              "\n",
              "    .dataframe tbody tr th {\n",
              "        vertical-align: top;\n",
              "    }\n",
              "\n",
              "    .dataframe thead th {\n",
              "        text-align: right;\n",
              "    }\n",
              "</style>\n",
              "<table border=\"1\" class=\"dataframe\">\n",
              "  <thead>\n",
              "    <tr style=\"text-align: right;\">\n",
              "      <th></th>\n",
              "      <th>date</th>\n",
              "      <th>tweet</th>\n",
              "      <th>clean_tweet</th>\n",
              "    </tr>\n",
              "  </thead>\n",
              "  <tbody>\n",
              "    <tr>\n",
              "      <th>0</th>\n",
              "      <td>2010-06-04</td>\n",
              "      <td>Please ignore prior tweets, as that was someon...</td>\n",
              "      <td>please ignore prior tweets  as that was someon...</td>\n",
              "    </tr>\n",
              "    <tr>\n",
              "      <th>25</th>\n",
              "      <td>2011-12-01</td>\n",
              "      <td>Went to Iceland on Sat to ride bumper cars on ...</td>\n",
              "      <td>went to iceland on sat to ride bumper cars on ...</td>\n",
              "    </tr>\n",
              "    <tr>\n",
              "      <th>24</th>\n",
              "      <td>2011-12-01</td>\n",
              "      <td>I made the volume on the Model S   go to 11.  ...</td>\n",
              "      <td>i made the volume on the model s go to 11  now...</td>\n",
              "    </tr>\n",
              "    <tr>\n",
              "      <th>23</th>\n",
              "      <td>2011-12-03</td>\n",
              "      <td>Great Voltaire quote, arguably better than Twa...</td>\n",
              "      <td>great voltaire quote  arguably better than twa...</td>\n",
              "    </tr>\n",
              "    <tr>\n",
              "      <th>22</th>\n",
              "      <td>2011-12-03</td>\n",
              "      <td>That was a total non sequitur btw</td>\n",
              "      <td>that was a total non sequitur btw</td>\n",
              "    </tr>\n",
              "    <tr>\n",
              "      <th>...</th>\n",
              "      <td>...</td>\n",
              "      <td>...</td>\n",
              "      <td>...</td>\n",
              "    </tr>\n",
              "    <tr>\n",
              "      <th>13441</th>\n",
              "      <td>2022-03-05</td>\n",
              "      <td>Obviously, this would negatively affect Tesla,...</td>\n",
              "      <td>obviously  this would negatively affect tesla ...</td>\n",
              "    </tr>\n",
              "    <tr>\n",
              "      <th>13443</th>\n",
              "      <td>2022-03-05</td>\n",
              "      <td>Haha sure :)</td>\n",
              "      <td>haha sure</td>\n",
              "    </tr>\n",
              "    <tr>\n",
              "      <th>13430</th>\n",
              "      <td>2022-03-05</td>\n",
              "      <td>In a way, this is free QA haha</td>\n",
              "      <td>in a way  this is free qa haha</td>\n",
              "    </tr>\n",
              "    <tr>\n",
              "      <th>13438</th>\n",
              "      <td>2022-03-05</td>\n",
              "      <td>Exactly</td>\n",
              "      <td>exactly</td>\n",
              "    </tr>\n",
              "    <tr>\n",
              "      <th>13431</th>\n",
              "      <td>2022-03-05</td>\n",
              "      <td>A beautiful home for life</td>\n",
              "      <td>a beautiful home for life</td>\n",
              "    </tr>\n",
              "  </tbody>\n",
              "</table>\n",
              "<p>13834 rows × 3 columns</p>\n",
              "</div>"
            ],
            "text/plain": [
              "             date                                              tweet  \\\n",
              "0      2010-06-04  Please ignore prior tweets, as that was someon...   \n",
              "25     2011-12-01  Went to Iceland on Sat to ride bumper cars on ...   \n",
              "24     2011-12-01  I made the volume on the Model S   go to 11.  ...   \n",
              "23     2011-12-03  Great Voltaire quote, arguably better than Twa...   \n",
              "22     2011-12-03                  That was a total non sequitur btw   \n",
              "...           ...                                                ...   \n",
              "13441  2022-03-05  Obviously, this would negatively affect Tesla,...   \n",
              "13443  2022-03-05                                       Haha sure :)   \n",
              "13430  2022-03-05                     In a way, this is free QA haha   \n",
              "13438  2022-03-05                                            Exactly   \n",
              "13431  2022-03-05                          A beautiful home for life   \n",
              "\n",
              "                                             clean_tweet  \n",
              "0      please ignore prior tweets  as that was someon...  \n",
              "25     went to iceland on sat to ride bumper cars on ...  \n",
              "24     i made the volume on the model s go to 11  now...  \n",
              "23     great voltaire quote  arguably better than twa...  \n",
              "22                     that was a total non sequitur btw  \n",
              "...                                                  ...  \n",
              "13441  obviously  this would negatively affect tesla ...  \n",
              "13443                                       haha sure     \n",
              "13430                     in a way  this is free qa haha  \n",
              "13438                                            exactly  \n",
              "13431                          a beautiful home for life  \n",
              "\n",
              "[13834 rows x 3 columns]"
            ]
          },
          "execution_count": 25,
          "metadata": {},
          "output_type": "execute_result"
        }
      ],
      "source": [
        "df_clean = df_elon.copy()\n",
        "\n",
        "def clean_data(df, col, clean_col):\n",
        "\n",
        "    # change to lower and remove spaces on either side\n",
        "    df[clean_col] = df[col].apply(lambda x: x.lower().strip())\n",
        "\n",
        "    # remove extra spaces in between\n",
        "    df[clean_col] = df[clean_col].apply(lambda x: re.sub(' +', ' ', x))\n",
        "\n",
        "    # remove punctuation\n",
        "    df[clean_col] = df[clean_col].apply(lambda x: re.sub('[^a-zA-Z0-9]', ' ', x))\n",
        "\n",
        "    # remove stopwords and get the stem\n",
        "    #df[clean_col] = df[clean_col].apply(lambda x: ' '.join(st.stem(text) for text in x.split() if text not in stop_words))\n",
        "\n",
        "    return df\n",
        "\n",
        "# calling function\n",
        "df_clean = clean_data(df_clean, 'tweet', 'clean_tweet')\n",
        "df_clean.sort_values('date')"
      ]
    },
    {
      "cell_type": "code",
      "execution_count": 26,
      "metadata": {
        "id": "B-AZ1PDEKlP4"
      },
      "outputs": [],
      "source": [
        "# Define the list of words you want to check for\n",
        "words_to_check = [\"dogecoin\", \"Doge\", \"doge\", \"Dogecoin\",\"bitcoin\", \"Bitcoin\", \"ethereum\", \"litecoin\", \"price\", \"value\", \"quotation\", \"trading\", \"cryptocurrency\", \"crypto\", \"cryptocurrency market\", \"coinbase\", \"binance\", \"kraken\"]\n",
        "\n",
        "# Filter rows where any of the words are present in the column\n",
        "filtered_data = df_clean[df_clean['clean_tweet'].str.contains('|'.join(words_to_check))]\n",
        "\n",
        "selected_columns = ['date', 'clean_tweet']\n",
        "new_dataset = filtered_data[selected_columns]\n",
        "\n",
        "# The filtered_data DataFrame will now contain only the rows where any of the words are present or not present, respectively\n",
        "new_dataset.reset_index(drop=True, inplace=True)\n",
        "\n",
        "new_dataset.to_csv('./data/only_clean_tweets.csv', index=False)"
      ]
    },
    {
      "cell_type": "code",
      "execution_count": null,
      "metadata": {},
      "outputs": [],
      "source": []
    }
  ],
  "metadata": {
    "colab": {
      "collapsed_sections": [
        "cQC6sx8o9Ij6",
        "4tEfK-L_Mc1Q"
      ],
      "gpuType": "T4",
      "provenance": []
    },
    "gpuClass": "standard",
    "kernelspec": {
      "display_name": "Python 3",
      "name": "python3"
    },
    "language_info": {
      "name": "python"
    }
  },
  "nbformat": 4,
  "nbformat_minor": 0
}
